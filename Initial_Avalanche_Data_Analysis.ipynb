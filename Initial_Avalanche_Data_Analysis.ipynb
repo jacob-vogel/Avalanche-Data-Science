{
 "cells": [
  {
   "cell_type": "code",
   "execution_count": 1,
   "id": "5b171e50",
   "metadata": {},
   "outputs": [],
   "source": [
    "import pandas as pd\n",
    "import numpy as np\n",
    "import scipy as sp\n",
    "import matplotlib.pyplot as plt\n",
    "import matplotlib.colors as colors\n",
    "import seaborn as sns; sns.set()"
   ]
  },
  {
   "cell_type": "code",
   "execution_count": 2,
   "id": "2845954e",
   "metadata": {},
   "outputs": [],
   "source": [
    "DF = pd.read_csv('Accidents_2021_Public-1.csv')"
   ]
  },
  {
   "cell_type": "code",
   "execution_count": 3,
   "id": "c20e28ea",
   "metadata": {},
   "outputs": [
    {
     "data": {
      "text/html": [
       "<div>\n",
       "<style scoped>\n",
       "    .dataframe tbody tr th:only-of-type {\n",
       "        vertical-align: middle;\n",
       "    }\n",
       "\n",
       "    .dataframe tbody tr th {\n",
       "        vertical-align: top;\n",
       "    }\n",
       "\n",
       "    .dataframe thead th {\n",
       "        text-align: right;\n",
       "    }\n",
       "</style>\n",
       "<table border=\"1\" class=\"dataframe\">\n",
       "  <thead>\n",
       "    <tr style=\"text-align: right;\">\n",
       "      <th></th>\n",
       "      <th>AvyYear</th>\n",
       "      <th>YYYY</th>\n",
       "      <th>MM</th>\n",
       "      <th>DD</th>\n",
       "      <th>Killed</th>\n",
       "    </tr>\n",
       "  </thead>\n",
       "  <tbody>\n",
       "    <tr>\n",
       "      <th>count</th>\n",
       "      <td>942.000000</td>\n",
       "      <td>942.000000</td>\n",
       "      <td>942.000000</td>\n",
       "      <td>942.000000</td>\n",
       "      <td>942.000000</td>\n",
       "    </tr>\n",
       "    <tr>\n",
       "      <th>mean</th>\n",
       "      <td>1997.974522</td>\n",
       "      <td>1997.789809</td>\n",
       "      <td>4.196391</td>\n",
       "      <td>15.451168</td>\n",
       "      <td>1.240977</td>\n",
       "    </tr>\n",
       "    <tr>\n",
       "      <th>std</th>\n",
       "      <td>16.421824</td>\n",
       "      <td>16.430007</td>\n",
       "      <td>3.790848</td>\n",
       "      <td>8.930554</td>\n",
       "      <td>0.717400</td>\n",
       "    </tr>\n",
       "    <tr>\n",
       "      <th>min</th>\n",
       "      <td>1951.000000</td>\n",
       "      <td>1951.000000</td>\n",
       "      <td>1.000000</td>\n",
       "      <td>0.000000</td>\n",
       "      <td>1.000000</td>\n",
       "    </tr>\n",
       "    <tr>\n",
       "      <th>25%</th>\n",
       "      <td>1987.000000</td>\n",
       "      <td>1987.000000</td>\n",
       "      <td>2.000000</td>\n",
       "      <td>8.000000</td>\n",
       "      <td>1.000000</td>\n",
       "    </tr>\n",
       "    <tr>\n",
       "      <th>50%</th>\n",
       "      <td>2001.000000</td>\n",
       "      <td>2001.000000</td>\n",
       "      <td>3.000000</td>\n",
       "      <td>16.000000</td>\n",
       "      <td>1.000000</td>\n",
       "    </tr>\n",
       "    <tr>\n",
       "      <th>75%</th>\n",
       "      <td>2011.000000</td>\n",
       "      <td>2010.000000</td>\n",
       "      <td>4.750000</td>\n",
       "      <td>23.000000</td>\n",
       "      <td>1.000000</td>\n",
       "    </tr>\n",
       "    <tr>\n",
       "      <th>max</th>\n",
       "      <td>2021.000000</td>\n",
       "      <td>2021.000000</td>\n",
       "      <td>12.000000</td>\n",
       "      <td>31.000000</td>\n",
       "      <td>11.000000</td>\n",
       "    </tr>\n",
       "  </tbody>\n",
       "</table>\n",
       "</div>"
      ],
      "text/plain": [
       "           AvyYear         YYYY          MM          DD      Killed\n",
       "count   942.000000   942.000000  942.000000  942.000000  942.000000\n",
       "mean   1997.974522  1997.789809    4.196391   15.451168    1.240977\n",
       "std      16.421824    16.430007    3.790848    8.930554    0.717400\n",
       "min    1951.000000  1951.000000    1.000000    0.000000    1.000000\n",
       "25%    1987.000000  1987.000000    2.000000    8.000000    1.000000\n",
       "50%    2001.000000  2001.000000    3.000000   16.000000    1.000000\n",
       "75%    2011.000000  2010.000000    4.750000   23.000000    1.000000\n",
       "max    2021.000000  2021.000000   12.000000   31.000000   11.000000"
      ]
     },
     "execution_count": 3,
     "metadata": {},
     "output_type": "execute_result"
    }
   ],
   "source": [
    "DF.describe()"
   ]
  },
  {
   "cell_type": "code",
   "execution_count": 5,
   "id": "b1c7a163",
   "metadata": {},
   "outputs": [
    {
     "data": {
      "text/plain": [
       "count     942.000000\n",
       "mean     1997.974522\n",
       "std        16.421824\n",
       "min      1951.000000\n",
       "25%      1987.000000\n",
       "50%      2001.000000\n",
       "75%      2011.000000\n",
       "max      2021.000000\n",
       "Name: AvyYear, dtype: float64"
      ]
     },
     "execution_count": 5,
     "metadata": {},
     "output_type": "execute_result"
    }
   ],
   "source": [
    "DF.AvyYear.describe()"
   ]
  },
  {
   "cell_type": "code",
   "execution_count": 6,
   "id": "4c799831",
   "metadata": {},
   "outputs": [
    {
     "data": {
      "text/plain": [
       "count    942.000000\n",
       "mean       1.240977\n",
       "std        0.717400\n",
       "min        1.000000\n",
       "25%        1.000000\n",
       "50%        1.000000\n",
       "75%        1.000000\n",
       "max       11.000000\n",
       "Name: Killed, dtype: float64"
      ]
     },
     "execution_count": 6,
     "metadata": {},
     "output_type": "execute_result"
    }
   ],
   "source": [
    "DF.Killed.describe()"
   ]
  },
  {
   "cell_type": "code",
   "execution_count": 8,
   "id": "1e15afed",
   "metadata": {},
   "outputs": [
    {
     "data": {
      "text/plain": [
       "AvyYear              0\n",
       "YYYY                 0\n",
       "MM                   0\n",
       "DD                   0\n",
       "Location             0\n",
       "Setting             19\n",
       "State                0\n",
       "PrimaryActivity      0\n",
       "TravelMode         316\n",
       "Killed               0\n",
       "Description        850\n",
       "dtype: int64"
      ]
     },
     "execution_count": 8,
     "metadata": {},
     "output_type": "execute_result"
    }
   ],
   "source": [
    "DF.isnull().sum()"
   ]
  },
  {
   "cell_type": "code",
   "execution_count": 9,
   "id": "ca49651f",
   "metadata": {},
   "outputs": [
    {
     "data": {
      "text/plain": [
       "count            942\n",
       "unique           790\n",
       "top       MT RAINIER\n",
       "freq               8\n",
       "Name: Location, dtype: object"
      ]
     },
     "execution_count": 9,
     "metadata": {},
     "output_type": "execute_result"
    }
   ],
   "source": [
    "DF.Location.describe()"
   ]
  },
  {
   "cell_type": "code",
   "execution_count": 11,
   "id": "2b6c88bc",
   "metadata": {},
   "outputs": [
    {
     "data": {
      "text/plain": [
       "count                    942\n",
       "unique                    25\n",
       "top       Backcountry Tourer\n",
       "freq                     253\n",
       "Name: PrimaryActivity, dtype: object"
      ]
     },
     "execution_count": 11,
     "metadata": {},
     "output_type": "execute_result"
    }
   ],
   "source": [
    "DF.PrimaryActivity.describe()"
   ]
  },
  {
   "cell_type": "code",
   "execution_count": 41,
   "id": "bde4afb3",
   "metadata": {},
   "outputs": [],
   "source": [
    "#****Creating a numbered list to represent the different activities performed when people are caught in avalanches****\n",
    "\n",
    "activityNum = []\n",
    "activityStr = ['Backcountry Tourer', 'Climber', 'Motorized Guided client', 'Sidecountry Rider', 'Snowmobiler', 'Resident', 'Inbounds Rider', 'Mechanized Guide', 'Hiker', 'Snowbiker', 'Hybrid Tourer', 'Ski Patroller', 'Human-powered Guide Client', 'Snowplayer', 'Hybrid Rider', 'Highway Personnel', 'Mechanized Guiding Client', 'Others at Work', 'Hunter', 'Misc Recreation', 'Motorist', 'Miner', 'Rescuer', 'Ranger']\n",
    "for x in range(942):\n",
    "    actNumStr = DF.loc[x, 'PrimaryActivity']\n",
    "    #if((actNumStr != 'Climber') and (actNumStr != 'Motorized Guided client') and (actNumStr != 'Sidecountry Rider') and (actNumStr != 'Snowmobiler') and (actNumStr != 'Backcountry Tourer') and (actNumStr != 'Resident') and (actNumStr != 'Inbounds Rider') and (actNumStr != 'Mechanized Guide') and (actNumStr != 'Hiker') and (actNumStr != 'Snowbiker') and (actNumStr != 'Hybrid Tourer') and (actNumStr != 'Ski Patroller') and (actNumStr != 'Human-powered Guide Client') and (actNumStr != 'Snowplayer') and (actNumStr != 'Hybrid Rider') and (actNumStr != 'Highway Personnel') and (actNumStr != 'Mechanized Guiding Client') and (actNumStr != 'Others at Work') and (actNumStr != 'Hunter') and (actNumStr != 'Misc Recreation') and (actNumStr != 'Unknown') and (actNumStr != 'Motorist') and (actNumStr != 'Miner') and (actNumStr != 'Rescuer') and (actNumStr != 'Ranger')):\n",
    "    if(actNumStr != 'Unknown'):\n",
    "        for y in range(24):\n",
    "            if(activityStr[y] == actNumStr):\n",
    "                activityNum.append(y)\n",
    "    else:\n",
    "        activityNum.append(-1)\n",
    "        \n",
    "        "
   ]
  },
  {
   "cell_type": "code",
   "execution_count": 49,
   "id": "30aab3d6",
   "metadata": {},
   "outputs": [],
   "source": [
    "DF['Activity_Num'] = activityNum"
   ]
  },
  {
   "cell_type": "code",
   "execution_count": 50,
   "id": "3d561d71",
   "metadata": {},
   "outputs": [
    {
     "data": {
      "text/plain": [
       "count    942.000000\n",
       "mean       3.921444\n",
       "std        4.548965\n",
       "min       -1.000000\n",
       "25%        0.000000\n",
       "50%        3.500000\n",
       "75%        4.000000\n",
       "max       23.000000\n",
       "Name: Activity_Num, dtype: float64"
      ]
     },
     "execution_count": 50,
     "metadata": {},
     "output_type": "execute_result"
    }
   ],
   "source": [
    "DF['Activity_Num'].describe()"
   ]
  },
  {
   "cell_type": "code",
   "execution_count": 51,
   "id": "665f9697",
   "metadata": {},
   "outputs": [
    {
     "data": {
      "text/plain": [
       "count     923\n",
       "unique     12\n",
       "top        BC\n",
       "freq      674\n",
       "Name: Setting, dtype: object"
      ]
     },
     "execution_count": 51,
     "metadata": {},
     "output_type": "execute_result"
    }
   ],
   "source": [
    "DF.Setting.describe()"
   ]
  },
  {
   "cell_type": "code",
   "execution_count": 88,
   "id": "9626690f",
   "metadata": {},
   "outputs": [],
   "source": [
    "#****Creating a numbered list to represent the different settings in which avalanches occur****\n",
    "\n",
    "settingNum = []\n",
    "settingStr = ['BC', 'TN', 'SA', 'CB', 'SA-closed terrain', 'NP', 'OB/NP', 'SP', 'RD', 'RS', 'MN']\n",
    "    if(type(setNumStr) == float):\n",
    "            settingNum.append(-1)\n",
    "    else:\n",
    "        if(setNumStr == 'bc'):\n",
    "            setNumStr = 'BC'\n",
    "        for y in range(10):\n",
    "            if(settingStr[y] == setNumStr):\n",
    "                settingNum.append(y)\n",
    "for z in range(3):\n",
    "    settingNum.append(-1)\n",
    "    \n",
    "    #if((setNumStr != 'BC') and (setNumStr != 'TN') and (setNumStr != 'SA') and (setNumStr != 'CB') and (setNumStr != 'SA-closed terrain') and (setNumStr != 'NP') and (type(setNumStr) != float) and (setNumStr != 'OB/NP') and (setNumStr != 'SP') and (setNumStr != 'RD') and (setNumStr != 'RS') and (setNumStr != 'MN')):\n",
    "        #int(setNumStr)\n",
    "        \n",
    "\n",
    "        \n",
    "        \n",
    "        "
   ]
  },
  {
   "cell_type": "code",
   "execution_count": 89,
   "id": "be8e3199",
   "metadata": {},
   "outputs": [],
   "source": [
    "DF['Setting_Num'] = settingNum"
   ]
  },
  {
   "cell_type": "code",
   "execution_count": 90,
   "id": "2bf63c7a",
   "metadata": {},
   "outputs": [
    {
     "data": {
      "text/plain": [
       "count    942.000000\n",
       "mean       0.859873\n",
       "std        1.924036\n",
       "min       -1.000000\n",
       "25%        0.000000\n",
       "50%        0.000000\n",
       "75%        1.000000\n",
       "max        9.000000\n",
       "Name: Setting_Num, dtype: float64"
      ]
     },
     "execution_count": 90,
     "metadata": {},
     "output_type": "execute_result"
    }
   ],
   "source": [
    "DF['Setting_Num'].describe()"
   ]
  },
  {
   "cell_type": "code",
   "execution_count": 91,
   "id": "cf52a312",
   "metadata": {},
   "outputs": [
    {
     "data": {
      "text/plain": [
       "count     942\n",
       "unique     17\n",
       "top        CO\n",
       "freq      256\n",
       "Name: State, dtype: object"
      ]
     },
     "execution_count": 91,
     "metadata": {},
     "output_type": "execute_result"
    }
   ],
   "source": [
    "DF.State.describe()"
   ]
  },
  {
   "cell_type": "code",
   "execution_count": 110,
   "id": "8e15c62c",
   "metadata": {},
   "outputs": [],
   "source": [
    "#****Creating a numbered list to represent the different states in which avalanches occur****\n",
    "\n",
    "stateNum = []\n",
    "stateStr = ['CO', 'AK', 'CA', 'ID', 'WY', 'NV', 'MT', 'WA', 'UT', 'NH', 'OR', 'NM', 'ND', 'VT', 'NY', 'AZ', 'ME']\n",
    "for x in range(942):\n",
    "    stateNumStr = DF.loc[x, 'State']\n",
    "    for y in range(17):\n",
    "        if(stateStr[y] == stateNumStr):\n",
    "            stateNum.append(y)\n",
    "    \n",
    "    #if((setNumStr != 'CO') and (setNumStr != 'AK') and (setNumStr != 'CA') and (setNumStr != 'ID') and (setNumStr != 'WY') and (setNumStr != 'NV') and (setNumStr != 'MT') and (setNumStr != 'WA') and (setNumStr != 'UT') and (setNumStr != 'NH') and (setNumStr != 'OR') and (setNumStr != 'NM') and (setNumStr != 'ND') and (setNumStr != 'VT') and (setNumStr != 'NY') and (setNumStr != 'AZ') and (setNumStr != 'ME')):\n",
    "        #int(setNumStr)\n",
    "        \n",
    "        "
   ]
  },
  {
   "cell_type": "code",
   "execution_count": 112,
   "id": "0a83e921",
   "metadata": {},
   "outputs": [],
   "source": [
    "DF['State_Num'] = stateNum"
   ]
  },
  {
   "cell_type": "code",
   "execution_count": 113,
   "id": "81731364",
   "metadata": {},
   "outputs": [],
   "source": [
    "iMadeAMistake = pd.read_csv('Accidents_2021_Public-1.csv')"
   ]
  },
  {
   "cell_type": "code",
   "execution_count": 114,
   "id": "2c67051e",
   "metadata": {},
   "outputs": [],
   "source": [
    "DF['State'] = iMadeAMistake['State']"
   ]
  },
  {
   "cell_type": "code",
   "execution_count": 115,
   "id": "6a5f0981",
   "metadata": {},
   "outputs": [
    {
     "data": {
      "text/plain": [
       "count     942\n",
       "unique     17\n",
       "top        CO\n",
       "freq      256\n",
       "Name: State, dtype: object"
      ]
     },
     "execution_count": 115,
     "metadata": {},
     "output_type": "execute_result"
    }
   ],
   "source": [
    "DF.State.describe()"
   ]
  },
  {
   "cell_type": "code",
   "execution_count": 116,
   "id": "e340b5b8",
   "metadata": {},
   "outputs": [
    {
     "data": {
      "text/plain": [
       "count    942.000000\n",
       "mean       3.574310\n",
       "std        3.288194\n",
       "min        0.000000\n",
       "25%        0.000000\n",
       "50%        3.000000\n",
       "75%        7.000000\n",
       "max       16.000000\n",
       "Name: State_Num, dtype: float64"
      ]
     },
     "execution_count": 116,
     "metadata": {},
     "output_type": "execute_result"
    }
   ],
   "source": [
    "DF.State_Num.describe()"
   ]
  },
  {
   "cell_type": "code",
   "execution_count": 151,
   "id": "e184f14d",
   "metadata": {},
   "outputs": [
    {
     "data": {
      "text/plain": [
       "count     626\n",
       "unique      9\n",
       "top       Ski\n",
       "freq      333\n",
       "Name: TravelMode, dtype: object"
      ]
     },
     "execution_count": 151,
     "metadata": {},
     "output_type": "execute_result"
    }
   ],
   "source": [
    "DF.TravelMode.describe()"
   ]
  },
  {
   "cell_type": "code",
   "execution_count": 171,
   "id": "1c6a8c5d",
   "metadata": {},
   "outputs": [],
   "source": [
    "#****Creating a numbered list to represent the different modes of travel that cause avalanches****\n",
    "travelNum = []\n",
    "travelStr = ['Ski', 'Foot', 'Snowmobile', 'Snowboard', 'Snowbike', 'Snowshoe', 'Sled, tube, or saucer', 'Other']\n",
    "\n",
    "for x in range(942):\n",
    "    travelNumStr = DF.loc[x, 'TravelMode']\n",
    "    if(type(travelNumStr) == float):\n",
    "            travelNum.append(-1)\n",
    "    else:\n",
    "        if(travelNumStr == 'SKi'):\n",
    "            travelNumStr = 'Ski'\n",
    "        for y in range(8):\n",
    "            if(travelStr[y] == travelNumStr):\n",
    "                travelNum.append(y)\n",
    "    #print(f'{travelNumStr}')\n",
    "    #if((travelNumStr != 'Ski') and (type(travelNumStr) != float) and (travelNumStr != 'Foot') and (travelNumStr != 'Snowmobile') and (travelNumStr != 'Snowboard') and (travelNumStr != 'Snowbike') and (travelNumStr != 'Snowshoe') and (travelNumStr != 'SKi') and (travelNumStr != 'Sled, tube, or saucer') and (travelNumStr != 'Other')):\n",
    "        #int(travelNumStr)\n",
    "        "
   ]
  },
  {
   "cell_type": "code",
   "execution_count": 172,
   "id": "9dc01384",
   "metadata": {},
   "outputs": [],
   "source": [
    "DF['Travel_Num'] = travelNum"
   ]
  },
  {
   "cell_type": "code",
   "execution_count": 173,
   "id": "a90592e4",
   "metadata": {},
   "outputs": [
    {
     "data": {
      "text/plain": [
       "array([[<AxesSubplot:title={'center':'AvyYear'}>,\n",
       "        <AxesSubplot:title={'center':'YYYY'}>,\n",
       "        <AxesSubplot:title={'center':'MM'}>],\n",
       "       [<AxesSubplot:title={'center':'DD'}>,\n",
       "        <AxesSubplot:title={'center':'Killed'}>,\n",
       "        <AxesSubplot:title={'center':'Activity_Num'}>],\n",
       "       [<AxesSubplot:title={'center':'Setting_Num'}>,\n",
       "        <AxesSubplot:title={'center':'State_Num'}>,\n",
       "        <AxesSubplot:title={'center':'Travel_Num'}>]], dtype=object)"
      ]
     },
     "execution_count": 173,
     "metadata": {},
     "output_type": "execute_result"
    },
    {
     "data": {
      "image/png": "[encoded data removed]",
      "text/plain": [
       "<Figure size 432x288 with 9 Axes>"
      ]
     },
     "metadata": {},
     "output_type": "display_data"
    }
   ],
   "source": [
    "DF.hist()"
   ]
  },
  {
   "cell_type": "code",
   "execution_count": 220,
   "id": "3ac21e57",
   "metadata": {},
   "outputs": [
    {
     "data": {
      "text/plain": [
       "Text(0, 0.5, 'Avalanche Accidents')"
      ]
     },
     "execution_count": 220,
     "metadata": {},
     "output_type": "execute_result"
    },
    {
     "data": {
      "image/png": "[encoded data removed]",
      "text/plain": [
       "<Figure size 432x288 with 1 Axes>"
      ]
     },
     "metadata": {},
     "output_type": "display_data"
    }
   ],
   "source": [
    "x = DF.State_Num.values\n",
    "histogram = plt.hist(x, bins=17)\n",
    "\n",
    "plt.xlabel('State No.')\n",
    "plt.ylabel('Avalanche Accidents')"
   ]
  },
  {
   "cell_type": "markdown",
   "id": "6bcb34ab",
   "metadata": {},
   "source": [
    "# STATE NO. KEY\n",
    "Colorado - 0 <br>\n",
    "Alaska - 1 <br>\n",
    "California - 2 <br>\n",
    "Idaho - 3 <br>\n",
    "Wyoming - 4 <br>\n",
    "Nevada - 5 <br>\n",
    "Montana - 6 <br>\n",
    "Washington - 7 <br>\n",
    "Utah - 8 <br>\n",
    "New Hampshire - 9 <br>\n",
    "Oregon - 10 <br>\n",
    "New Mexico - 11 <br>\n",
    "North Dakota - 12 <br>\n",
    "Vermont - 13 <br>\n",
    "New York - 14 <br>\n",
    "Arizona - 15 <br>\n",
    "Maine - 16 <br>"
   ]
  },
  {
   "cell_type": "code",
   "execution_count": 219,
   "id": "37af2167",
   "metadata": {},
   "outputs": [
    {
     "data": {
      "text/plain": [
       "Text(0, 0.5, 'Avalanche Accidents')"
      ]
     },
     "execution_count": 219,
     "metadata": {},
     "output_type": "execute_result"
    },
    {
     "data": {
      "image/png": "[encoded data removed]",
      "text/plain": [
       "<Figure size 432x288 with 1 Axes>"
      ]
     },
     "metadata": {},
     "output_type": "display_data"
    }
   ],
   "source": [
    "x = DF.Activity_Num.values\n",
    "histogram = plt.hist(x, bins=25, )\n",
    "\n",
    "plt.xlabel('Activity Type')\n",
    "plt.ylabel('Avalanche Accidents')"
   ]
  },
  {
   "cell_type": "markdown",
   "id": "a69f7db8",
   "metadata": {},
   "source": [
    "# Activity Type No. Key \n",
    "Unknown - -1 <br>\n",
    "Backcountry Tourer - 0 <br>\n",
    "Climber - 1 <br>\n",
    "Motorized Guided Client - 2 <br>\n",
    "Sidecountry Rider - 3 <br>\n",
    "Snowmobiler - 4 <br>\n",
    "Resident - 5 <br>\n",
    "Inbounds Rider - 6 <br>\n",
    "Mechanized Guide - 7 <br>\n",
    "Hiker - 8 <br>\n",
    "Snowbiker - 9 <br>\n",
    "Hybrid Tourer - 10 <br>\n",
    "Ski Patroller - 11 <br>\n",
    "Human-Powered Guide Client - 12 <br>\n",
    "Snowplayer - 13 <br>\n",
    "Hybrid Rider - 14 <br>\n",
    "Highway Personnel - 15 <br>\n",
    "Mechanized Guiding Client - 16 <br>\n",
    "Others at Work - 17 <br>\n",
    "Hunter - 18 <br>\n",
    "Misc Recreation - 19 <br>\n",
    "Motorist - 20 <br>\n",
    "Miner - 21 <br>\n",
    "Rescuer - 22 <br>\n",
    "Ranger - 23 <br>"
   ]
  },
  {
   "cell_type": "code",
   "execution_count": 218,
   "id": "080b08fa",
   "metadata": {},
   "outputs": [
    {
     "data": {
      "text/plain": [
       "Text(0, 0.5, 'Avalanche Accidents')"
      ]
     },
     "execution_count": 218,
     "metadata": {},
     "output_type": "execute_result"
    },
    {
     "data": {
      "image/png": "[encoded data removed]",
      "text/plain": [
       "<Figure size 432x288 with 1 Axes>"
      ]
     },
     "metadata": {},
     "output_type": "display_data"
    }
   ],
   "source": [
    "x = DF.Travel_Num.values\n",
    "histogram = plt.hist(x, bins=8)\n",
    "\n",
    "plt.xlabel('Travel Mode')\n",
    "plt.ylabel('Avalanche Accidents')"
   ]
  },
  {
   "cell_type": "markdown",
   "id": "8fd232cb",
   "metadata": {},
   "source": [
    "# Travel Mode Key"
   ]
  },
  {
   "cell_type": "markdown",
   "id": "141a7cfd",
   "metadata": {},
   "source": [
    "Unknown - -1 <br>\n",
    "Ski - 0 <br>\n",
    "Foot - 1 <br>\n",
    "Snowmobile - 2 <br>\n",
    "Snowboard - 3 <br>\n",
    "Snowbike - 4 <br>\n",
    "Snowshoe - 5 <br>\n",
    "Sled, tube, or saucer - 6 <br>\n",
    "Other - 7 <br>"
   ]
  },
  {
   "cell_type": "markdown",
   "id": "37573da5",
   "metadata": {},
   "source": [
    "# Given that there was an avalanche accident what is the probability that it happened in each given month?"
   ]
  },
  {
   "cell_type": "markdown",
   "id": "4151f5bd",
   "metadata": {},
   "source": [
    "September:"
   ]
  },
  {
   "cell_type": "code",
   "execution_count": 138,
   "id": "8f5ace8c",
   "metadata": {},
   "outputs": [
    {
     "data": {
      "text/plain": [
       "0.0010615711252653928"
      ]
     },
     "execution_count": 138,
     "metadata": {},
     "output_type": "execute_result"
    }
   ],
   "source": [
    "totalSize = 942\n",
    "September = DF.query('MM == 9')\n",
    "(September.shape[0])/totalSize"
   ]
  },
  {
   "cell_type": "markdown",
   "id": "43abd1ab",
   "metadata": {},
   "source": [
    "October:"
   ]
  },
  {
   "cell_type": "code",
   "execution_count": 129,
   "id": "5cc59099",
   "metadata": {},
   "outputs": [
    {
     "data": {
      "text/plain": [
       "0.0074309978768577496"
      ]
     },
     "execution_count": 129,
     "metadata": {},
     "output_type": "execute_result"
    }
   ],
   "source": [
    "totalSize = 942\n",
    "October = DF.query('MM == 10')\n",
    "(October.shape[0])/totalSize"
   ]
  },
  {
   "cell_type": "markdown",
   "id": "cf9fa404",
   "metadata": {},
   "source": [
    "November:"
   ]
  },
  {
   "cell_type": "code",
   "execution_count": 130,
   "id": "f4bc48e9",
   "metadata": {},
   "outputs": [
    {
     "data": {
      "text/plain": [
       "0.045647558386411886"
      ]
     },
     "execution_count": 130,
     "metadata": {},
     "output_type": "execute_result"
    }
   ],
   "source": [
    "totalSize = 942\n",
    "November = DF.query('MM == 11')\n",
    "(November.shape[0])/totalSize"
   ]
  },
  {
   "cell_type": "markdown",
   "id": "d2e8d18c",
   "metadata": {},
   "source": [
    "December:"
   ]
  },
  {
   "cell_type": "code",
   "execution_count": 131,
   "id": "02c5d097",
   "metadata": {},
   "outputs": [
    {
     "data": {
      "text/plain": [
       "0.1316348195329087"
      ]
     },
     "execution_count": 131,
     "metadata": {},
     "output_type": "execute_result"
    }
   ],
   "source": [
    "totalSize = 942\n",
    "December = DF.query('MM == 12')\n",
    "(December.shape[0])/totalSize"
   ]
  },
  {
   "cell_type": "markdown",
   "id": "bf9c2477",
   "metadata": {},
   "source": [
    "January:"
   ]
  },
  {
   "cell_type": "code",
   "execution_count": 132,
   "id": "481e7af6",
   "metadata": {},
   "outputs": [
    {
     "data": {
      "text/plain": [
       "0.22823779193205945"
      ]
     },
     "execution_count": 132,
     "metadata": {},
     "output_type": "execute_result"
    }
   ],
   "source": [
    "totalSize = 942\n",
    "January = DF.query('MM == 1')\n",
    "(January.shape[0])/totalSize"
   ]
  },
  {
   "cell_type": "markdown",
   "id": "63ffc962",
   "metadata": {},
   "source": [
    "February:"
   ]
  },
  {
   "cell_type": "code",
   "execution_count": 134,
   "id": "7d71b0ab",
   "metadata": {},
   "outputs": [
    {
     "data": {
      "text/plain": [
       "0.23885350318471338"
      ]
     },
     "execution_count": 134,
     "metadata": {},
     "output_type": "execute_result"
    }
   ],
   "source": [
    "totalSize = 942\n",
    "February = DF.query('MM == 2')\n",
    "(February.shape[0])/totalSize"
   ]
  },
  {
   "cell_type": "markdown",
   "id": "80379897",
   "metadata": {},
   "source": [
    "March:"
   ]
  },
  {
   "cell_type": "code",
   "execution_count": 135,
   "id": "de21ec45",
   "metadata": {},
   "outputs": [
    {
     "data": {
      "text/plain": [
       "0.17728237791932058"
      ]
     },
     "execution_count": 135,
     "metadata": {},
     "output_type": "execute_result"
    }
   ],
   "source": [
    "totalSize = 942\n",
    "March = DF.query('MM == 3')\n",
    "(March.shape[0])/totalSize"
   ]
  },
  {
   "cell_type": "markdown",
   "id": "fd862efa",
   "metadata": {},
   "source": [
    "April:"
   ]
  },
  {
   "cell_type": "code",
   "execution_count": 136,
   "id": "d34fcb1c",
   "metadata": {},
   "outputs": [
    {
     "data": {
      "text/plain": [
       "0.10509554140127389"
      ]
     },
     "execution_count": 136,
     "metadata": {},
     "output_type": "execute_result"
    }
   ],
   "source": [
    "totalSize = 942\n",
    "April = DF.query('MM == 4')\n",
    "(April.shape[0])/totalSize"
   ]
  },
  {
   "cell_type": "markdown",
   "id": "d3e18dfc",
   "metadata": {},
   "source": [
    "May:"
   ]
  },
  {
   "cell_type": "code",
   "execution_count": 137,
   "id": "c1bcc524",
   "metadata": {},
   "outputs": [
    {
     "data": {
      "text/plain": [
       "0.03078556263269639"
      ]
     },
     "execution_count": 137,
     "metadata": {},
     "output_type": "execute_result"
    }
   ],
   "source": [
    "totalSize = 942\n",
    "May = DF.query('MM == 5')\n",
    "(May.shape[0])/totalSize"
   ]
  },
  {
   "cell_type": "markdown",
   "id": "bcbba478",
   "metadata": {},
   "source": [
    "# What is the probability of the deceased party being a ski patrol in a deadly inbounds avalanche "
   ]
  },
  {
   "cell_type": "code",
   "execution_count": 143,
   "id": "12b4db2b",
   "metadata": {},
   "outputs": [
    {
     "data": {
      "text/plain": [
       "0.12526539278131635"
      ]
     },
     "execution_count": 143,
     "metadata": {},
     "output_type": "execute_result"
    }
   ],
   "source": [
    "skiPatAndInBounds = DF.query('Activity_Num == 11' and ('Setting_Num == 2' or 'Setting_Num == 4'))\n",
    "skiPatAndInBounds.shape[0]/totalSize"
   ]
  },
  {
   "cell_type": "markdown",
   "id": "ef2e5cbe",
   "metadata": {},
   "source": [
    "# Given accidents that have occured in Colorado what is the probability that the accident involved a skier or snowboarder"
   ]
  },
  {
   "cell_type": "code",
   "execution_count": 221,
   "id": "df7e2d8f",
   "metadata": {
    "scrolled": true
   },
   "outputs": [
    {
     "data": {
      "text/plain": [
       "0.764179104477612"
      ]
     },
     "execution_count": 221,
     "metadata": {},
     "output_type": "execute_result"
    }
   ],
   "source": [
    "coAccidents = DF.query('State_Num == 0')\n",
    "coAccAndOutOfBounds = DF.query('State_Num == 0' and ('Travel_Num == 0' or 'Travel_Num == 3'))\n",
    "coAccidents.shape[0]/coAccAndOutOfBounds.shape[0]"
   ]
  },
  {
   "cell_type": "markdown",
   "id": "b1e2dfa4",
   "metadata": {},
   "source": [
    "# Of the recorded accidents what percentage occur in the most common occuring states?"
   ]
  },
  {
   "cell_type": "markdown",
   "id": "89bde25f",
   "metadata": {},
   "source": [
    "Colorado:"
   ]
  },
  {
   "cell_type": "code",
   "execution_count": 224,
   "id": "c1ad41f7",
   "metadata": {},
   "outputs": [
    {
     "data": {
      "text/plain": [
       "0.27176220806794055"
      ]
     },
     "execution_count": 224,
     "metadata": {},
     "output_type": "execute_result"
    }
   ],
   "source": [
    "coAccidents = DF.query('State_Num == 0')\n",
    "coAccidents.shape[0]/totalSize"
   ]
  },
  {
   "cell_type": "markdown",
   "id": "55fce5c1",
   "metadata": {},
   "source": [
    "Alaska:"
   ]
  },
  {
   "cell_type": "code",
   "execution_count": 227,
   "id": "1d87149b",
   "metadata": {},
   "outputs": [
    {
     "data": {
      "text/plain": [
       "0.1326963906581741"
      ]
     },
     "execution_count": 227,
     "metadata": {},
     "output_type": "execute_result"
    }
   ],
   "source": [
    "akAccidents = DF.query('State_Num == 1')\n",
    "akAccidents.shape[0]/totalSize"
   ]
  },
  {
   "cell_type": "markdown",
   "id": "d36925e3",
   "metadata": {},
   "source": [
    "California:"
   ]
  },
  {
   "cell_type": "code",
   "execution_count": 228,
   "id": "48c95c5a",
   "metadata": {},
   "outputs": [
    {
     "data": {
      "text/plain": [
       "0.058386411889596604"
      ]
     },
     "execution_count": 228,
     "metadata": {},
     "output_type": "execute_result"
    }
   ],
   "source": [
    "caAccidents = DF.query('State_Num == 2')\n",
    "caAccidents.shape[0]/totalSize"
   ]
  },
  {
   "cell_type": "markdown",
   "id": "314a565d",
   "metadata": {},
   "source": [
    "Idaho:"
   ]
  },
  {
   "cell_type": "code",
   "execution_count": 229,
   "id": "8fd190ff",
   "metadata": {},
   "outputs": [
    {
     "data": {
      "text/plain": [
       "0.07855626326963906"
      ]
     },
     "execution_count": 229,
     "metadata": {},
     "output_type": "execute_result"
    }
   ],
   "source": [
    "idAccidents = DF.query('State_Num == 3')\n",
    "idAccidents.shape[0]/totalSize"
   ]
  },
  {
   "cell_type": "markdown",
   "id": "0947c72d",
   "metadata": {},
   "source": [
    "Wyoming:"
   ]
  },
  {
   "cell_type": "code",
   "execution_count": 230,
   "id": "8849807d",
   "metadata": {},
   "outputs": [
    {
     "data": {
      "text/plain": [
       "0.0870488322717622"
      ]
     },
     "execution_count": 230,
     "metadata": {},
     "output_type": "execute_result"
    }
   ],
   "source": [
    "wyAccidents = DF.query('State_Num == 4')\n",
    "wyAccidents.shape[0]/totalSize"
   ]
  },
  {
   "cell_type": "markdown",
   "id": "b307813a",
   "metadata": {},
   "source": [
    "Nevada:"
   ]
  },
  {
   "cell_type": "code",
   "execution_count": 231,
   "id": "0f8f9038",
   "metadata": {},
   "outputs": [
    {
     "data": {
      "text/plain": [
       "0.01167728237791932"
      ]
     },
     "execution_count": 231,
     "metadata": {},
     "output_type": "execute_result"
    }
   ],
   "source": [
    "nvAccidents = DF.query('State_Num == 5')\n",
    "nvAccidents.shape[0]/totalSize"
   ]
  },
  {
   "cell_type": "markdown",
   "id": "949e1fb1",
   "metadata": {},
   "source": [
    "# Scaling Data"
   ]
  },
  {
   "cell_type": "code",
   "execution_count": 149,
   "id": "59bf2a27",
   "metadata": {},
   "outputs": [],
   "source": [
    "import sklearn as sk\n",
    "from sklearn.preprocessing import MinMaxScaler"
   ]
  },
  {
   "cell_type": "code",
   "execution_count": 150,
   "id": "40c6e325",
   "metadata": {},
   "outputs": [
    {
     "data": {
      "text/html": [
       "<div>\n",
       "<style scoped>\n",
       "    .dataframe tbody tr th:only-of-type {\n",
       "        vertical-align: middle;\n",
       "    }\n",
       "\n",
       "    .dataframe tbody tr th {\n",
       "        vertical-align: top;\n",
       "    }\n",
       "\n",
       "    .dataframe thead th {\n",
       "        text-align: right;\n",
       "    }\n",
       "</style>\n",
       "<table border=\"1\" class=\"dataframe\">\n",
       "  <thead>\n",
       "    <tr style=\"text-align: right;\">\n",
       "      <th></th>\n",
       "      <th>Killed</th>\n",
       "      <th>AvyYear</th>\n",
       "    </tr>\n",
       "  </thead>\n",
       "  <tbody>\n",
       "    <tr>\n",
       "      <th>count</th>\n",
       "      <td>942.000000</td>\n",
       "      <td>942.000000</td>\n",
       "    </tr>\n",
       "    <tr>\n",
       "      <th>mean</th>\n",
       "      <td>0.024098</td>\n",
       "      <td>0.671065</td>\n",
       "    </tr>\n",
       "    <tr>\n",
       "      <th>std</th>\n",
       "      <td>0.071740</td>\n",
       "      <td>0.234597</td>\n",
       "    </tr>\n",
       "    <tr>\n",
       "      <th>min</th>\n",
       "      <td>0.000000</td>\n",
       "      <td>0.000000</td>\n",
       "    </tr>\n",
       "    <tr>\n",
       "      <th>25%</th>\n",
       "      <td>0.000000</td>\n",
       "      <td>0.514286</td>\n",
       "    </tr>\n",
       "    <tr>\n",
       "      <th>50%</th>\n",
       "      <td>0.000000</td>\n",
       "      <td>0.714286</td>\n",
       "    </tr>\n",
       "    <tr>\n",
       "      <th>75%</th>\n",
       "      <td>0.000000</td>\n",
       "      <td>0.857143</td>\n",
       "    </tr>\n",
       "    <tr>\n",
       "      <th>max</th>\n",
       "      <td>1.000000</td>\n",
       "      <td>1.000000</td>\n",
       "    </tr>\n",
       "  </tbody>\n",
       "</table>\n",
       "</div>"
      ],
      "text/plain": [
       "           Killed     AvyYear\n",
       "count  942.000000  942.000000\n",
       "mean     0.024098    0.671065\n",
       "std      0.071740    0.234597\n",
       "min      0.000000    0.000000\n",
       "25%      0.000000    0.514286\n",
       "50%      0.000000    0.714286\n",
       "75%      0.000000    0.857143\n",
       "max      1.000000    1.000000"
      ]
     },
     "execution_count": 150,
     "metadata": {},
     "output_type": "execute_result"
    }
   ],
   "source": [
    "myScaler = MinMaxScaler()\n",
    "DFscaled = DF[['Killed', 'AvyYear']].copy()\n",
    "myScaler = myScaler.fit(DFscaled)\n",
    "DFscaled[['Killed', 'AvyYear']] = myScaler.transform(DFscaled)\n",
    "DFscaled.describe()"
   ]
  },
  {
   "cell_type": "code",
   "execution_count": 175,
   "id": "7486afad",
   "metadata": {},
   "outputs": [],
   "source": [
    "DFscaled[['State_Num', 'Setting_Num', 'Activity_Num', 'MM', 'DD', 'Location', 'Setting', 'State', 'PrimaryActivity', 'TravelMode', 'Description', 'Travel_Num']] = DF[['State_Num', 'Setting_Num', 'Activity_Num', 'MM', 'DD', 'Location', 'Setting', 'State', 'PrimaryActivity', 'TravelMode', 'Description', 'Travel_Num']]\n"
   ]
  },
  {
   "cell_type": "markdown",
   "id": "5151f14e",
   "metadata": {},
   "source": [
    "# Normalizing Data"
   ]
  },
  {
   "cell_type": "code",
   "execution_count": 190,
   "id": "df6bb9ea",
   "metadata": {},
   "outputs": [],
   "source": [
    "from sklearn.preprocessing import QuantileTransformer as qt"
   ]
  },
  {
   "cell_type": "code",
   "execution_count": 194,
   "id": "599a8717",
   "metadata": {},
   "outputs": [],
   "source": [
    "DFnums = DF[['State_Num', 'Setting_Num', 'Activity_Num', 'MM', 'DD', 'Travel_Num']]"
   ]
  },
  {
   "cell_type": "code",
   "execution_count": 195,
   "id": "d0c18350",
   "metadata": {},
   "outputs": [
    {
     "data": {
      "text/plain": [
       "array([[0.33333333, 0.38888889, 0.33333333, 0.77777778, 0.41666667,\n",
       "        0.72222222],\n",
       "       [0.33333333, 0.38888889, 0.38888889, 0.55555556, 0.88888889,\n",
       "        0.55555556],\n",
       "       [0.        , 0.38888889, 0.44444444, 0.55555556, 0.72222222,\n",
       "        0.55555556],\n",
       "       ...,\n",
       "       [0.        , 0.        , 0.98518519, 0.        , 0.22222222,\n",
       "        0.        ],\n",
       "       [0.        , 0.        , 0.97777778, 1.        , 0.97222222,\n",
       "        0.        ],\n",
       "       [0.        , 0.        , 0.97777778, 0.66666667, 0.81481481,\n",
       "        0.        ]])"
      ]
     },
     "execution_count": 195,
     "metadata": {},
     "output_type": "execute_result"
    }
   ],
   "source": [
    "myQT = qt(n_quantiles=10, random_state=86)\n",
    "quantileArray = myQT.fit_transform(DFnums)\n",
    "quantileArray"
   ]
  },
  {
   "cell_type": "markdown",
   "id": "dd101670",
   "metadata": {},
   "source": [
    "# Splitting Data Into Test and Training Sets"
   ]
  },
  {
   "cell_type": "code",
   "execution_count": 176,
   "id": "11ede0cb",
   "metadata": {},
   "outputs": [],
   "source": [
    "from sklearn.model_selection import train_test_split as tts"
   ]
  },
  {
   "cell_type": "code",
   "execution_count": 177,
   "id": "38e3bd0c",
   "metadata": {},
   "outputs": [],
   "source": [
    "AvyYear_train, AvyYear_test, killed_train, killed_test = tts(DFscaled['AvyYear'], DFscaled['Killed'], test_size = 0.3, random_state = 56)\n",
    "#AvyYear as predictor and Killed as target\n"
   ]
  },
  {
   "cell_type": "markdown",
   "id": "c81aa839",
   "metadata": {},
   "source": [
    "# Training a Linear Regression to fit scatter plot"
   ]
  },
  {
   "cell_type": "code",
   "execution_count": 183,
   "id": "fde2c930",
   "metadata": {},
   "outputs": [
    {
     "name": "stdout",
     "output_type": "stream",
     "text": [
      "This is the R2 value for the regressor on the training dataset = [[-0.04003255]] \n",
      "\n",
      "This is the score for the test dataset = 0.016955070678527973 \n",
      "\n"
     ]
    }
   ],
   "source": [
    "from sklearn.linear_model import LinearRegression\n",
    "reg = LinearRegression()\n",
    "maxTrain = AvyYear_train.values.reshape(-1,1)\n",
    "minTrain = killed_train.values.reshape(-1,1)\n",
    "reg.fit(maxTrain, minTrain)\n",
    "print(f'This is the R2 value for the regressor on the training dataset = {reg.coef_} \\n')\n",
    "print(f'This is the score for the test dataset = {reg.score(maxTrain, minTrain)} \\n')"
   ]
  },
  {
   "cell_type": "markdown",
   "id": "fc652eb6",
   "metadata": {},
   "source": [
    "Not really a good score here, I thought that there might be more of a correlation. I Should have looked at the scatter plot first. "
   ]
  },
  {
   "cell_type": "code",
   "execution_count": 188,
   "id": "91c3be11",
   "metadata": {},
   "outputs": [
    {
     "data": {
      "text/plain": [
       "Text(0, 0.5, 'Killed')"
      ]
     },
     "execution_count": 188,
     "metadata": {},
     "output_type": "execute_result"
    },
    {
     "data": {
      "image/png": "[encoded data removed]",
      "text/plain": [
       "<Figure size 432x288 with 1 Axes>"
      ]
     },
     "metadata": {},
     "output_type": "display_data"
    }
   ],
   "source": [
    "x = DFscaled.AvyYear.values\n",
    "y = DFscaled.Killed.values\n",
    "plt.scatter(x,y, alpha=0.125)\n",
    "plt.plot(np.linspace(-40,40), reg.predict(np.linspace(-40,40).reshape(-1,1)),c='orange')\n",
    "plt.xlabel('Avalanche Year')\n",
    "plt.ylabel('Killed') "
   ]
  },
  {
   "cell_type": "code",
   "execution_count": 184,
   "id": "6c72fe11",
   "metadata": {},
   "outputs": [
    {
     "data": {
      "text/plain": [
       "Text(0, 0.5, 'Killed')"
      ]
     },
     "execution_count": 184,
     "metadata": {},
     "output_type": "execute_result"
    },
    {
     "data": {
      "image/png": "[encoded data removed]",
      "text/plain": [
       "<Figure size 432x288 with 1 Axes>"
      ]
     },
     "metadata": {},
     "output_type": "display_data"
    }
   ],
   "source": [
    "x = DF.AvyYear.values\n",
    "y = DF.Killed.values\n",
    "plt.scatter(x,y, alpha=0.125)\n",
    "plt.xlabel('Avalanche Year')\n",
    "plt.ylabel('Killed') "
   ]
  },
  {
   "cell_type": "code",
   "execution_count": 217,
   "id": "0e1eea1d",
   "metadata": {
    "scrolled": true
   },
   "outputs": [
    {
     "data": {
      "text/plain": [
       "<matplotlib.colorbar.Colorbar at 0x7fd181debee0>"
      ]
     },
     "execution_count": 217,
     "metadata": {},
     "output_type": "execute_result"
    },
    {
     "data": {
      "image/png": "[encoded data removed]",
      "text/plain": [
       "<Figure size 432x288 with 2 Axes>"
      ]
     },
     "metadata": {},
     "output_type": "display_data"
    }
   ],
   "source": [
    "fig, ax = plt.subplots(tight_layout=True)\n",
    "hist = ax.hist2d(DF['AvyYear'], DF['Killed'])\n",
    "plt.xlabel('Avalanche Year')\n",
    "plt.ylabel('Killed') \n",
    "plt.colorbar(scatterPlt)\n",
    "#for x in range(942):\n",
    " #   AvyYear = DF.loc[x, 'AvyYear']\n",
    "  #  NoKilled = DF.loc[x, 'Killed']"
   ]
  },
  {
   "cell_type": "markdown",
   "id": "baac9772",
   "metadata": {},
   "source": [
    "Here we do see a bit of correlation between the increase in years and the increase in the number killed"
   ]
  },
  {
   "cell_type": "markdown",
   "id": "02c039ff",
   "metadata": {},
   "source": [
    "# KMeans Clustering"
   ]
  },
  {
   "cell_type": "code",
   "execution_count": 196,
   "id": "7ae380e2",
   "metadata": {},
   "outputs": [],
   "source": [
    "from sklearn.cluster import KMeans as KM"
   ]
  },
  {
   "cell_type": "code",
   "execution_count": 197,
   "id": "74ed2fe6",
   "metadata": {},
   "outputs": [
    {
     "data": {
      "text/plain": [
       "KMeans(init='random', n_clusters=5, n_init=100, random_state=89)"
      ]
     },
     "execution_count": 197,
     "metadata": {},
     "output_type": "execute_result"
    }
   ],
   "source": [
    "myKM = KM(n_clusters=5, n_init=100, init='random', random_state=89)\n",
    "myKM.fit(quantileArray)"
   ]
  },
  {
   "cell_type": "code",
   "execution_count": 198,
   "id": "6b1da146",
   "metadata": {},
   "outputs": [
    {
     "data": {
      "text/plain": [
       "array([0, 1, 2, 3, 4], dtype=int32)"
      ]
     },
     "execution_count": 198,
     "metadata": {},
     "output_type": "execute_result"
    }
   ],
   "source": [
    "labels = myKM.labels_\n",
    "np.unique(labels)"
   ]
  },
  {
   "cell_type": "code",
   "execution_count": 199,
   "id": "7abdf3fb",
   "metadata": {},
   "outputs": [
    {
     "name": "stdout",
     "output_type": "stream",
     "text": [
      "The most common class for all samples is 2\n"
     ]
    }
   ],
   "source": [
    "labels = myKM.labels_\n",
    "counts = np.bincount(labels)\n",
    "print(f'The most common class for all samples is {np.argmax(counts)}')"
   ]
  },
  {
   "cell_type": "code",
   "execution_count": 203,
   "id": "ddf8b6cd",
   "metadata": {},
   "outputs": [
    {
     "data": {
      "text/plain": [
       "Text(0, 0.5, 'Killed')"
      ]
     },
     "execution_count": 203,
     "metadata": {},
     "output_type": "execute_result"
    },
    {
     "data": {
      "image/png": "[encoded data removed]",
      "text/plain": [
       "<Figure size 432x288 with 2 Axes>"
      ]
     },
     "metadata": {},
     "output_type": "display_data"
    }
   ],
   "source": [
    "DF = DF.assign(Label=labels)\n",
    "\n",
    "x = DF.State_Num.values\n",
    "y = DF.Killed.values\n",
    "scatterPlt = plt.scatter(x, y, c=DF.Label)\n",
    "\n",
    "plt.colorbar(scatterPlt)\n",
    "plt.xlabel('State')\n",
    "plt.ylabel('Killed')"
   ]
  },
  {
   "cell_type": "code",
   "execution_count": 205,
   "id": "ddd600bc",
   "metadata": {},
   "outputs": [
    {
     "data": {
      "text/plain": [
       "Text(0, 0.5, 'Killed')"
      ]
     },
     "execution_count": 205,
     "metadata": {},
     "output_type": "execute_result"
    },
    {
     "data": {
      "image/png": "[encoded data removed]",
      "text/plain": [
       "<Figure size 432x288 with 2 Axes>"
      ]
     },
     "metadata": {},
     "output_type": "display_data"
    }
   ],
   "source": [
    "DF = DF.assign(Label=labels)\n",
    "\n",
    "x = DF.Setting_Num.values\n",
    "y = DF.Killed.values\n",
    "scatterPlt = plt.scatter(x, y, c=DF.Label)\n",
    "\n",
    "plt.colorbar(scatterPlt)\n",
    "plt.xlabel('Setting')\n",
    "plt.ylabel('Killed')"
   ]
  },
  {
   "cell_type": "markdown",
   "id": "b8418d12",
   "metadata": {},
   "source": [
    "# Dimensionality Reduction"
   ]
  },
  {
   "cell_type": "code",
   "execution_count": 207,
   "id": "e753247d",
   "metadata": {},
   "outputs": [],
   "source": [
    "from sklearn.decomposition import PCA "
   ]
  },
  {
   "cell_type": "code",
   "execution_count": 208,
   "id": "adfb6726",
   "metadata": {},
   "outputs": [
    {
     "data": {
      "text/plain": [
       "(942, 2)"
      ]
     },
     "execution_count": 208,
     "metadata": {},
     "output_type": "execute_result"
    }
   ],
   "source": [
    "myPCA = PCA(n_components=2, random_state=86, whiten=True)\n",
    "fittedPCA = myPCA.fit_transform(quantileArray)\n",
    "fittedPCA.shape"
   ]
  },
  {
   "cell_type": "code",
   "execution_count": 211,
   "id": "d92be5ce",
   "metadata": {},
   "outputs": [
    {
     "data": {
      "text/plain": [
       "Text(0, 0.5, 'PCA Component 2')"
      ]
     },
     "execution_count": 211,
     "metadata": {},
     "output_type": "execute_result"
    },
    {
     "data": {
      "image/png": "[encoded data removed]",
      "text/plain": [
       "<Figure size 432x288 with 2 Axes>"
      ]
     },
     "metadata": {},
     "output_type": "display_data"
    }
   ],
   "source": [
    "x = fittedPCA[:,0]\n",
    "y = fittedPCA[:,1]\n",
    "scatterPlt = plt.scatter(x, y, c=DF.Travel_Num)\n",
    "\n",
    "plt.colorbar(scatterPlt)\n",
    "plt.xlabel('PCA Component 1')\n",
    "plt.ylabel('PCA Component 2')"
   ]
  },
  {
   "cell_type": "code",
   "execution_count": 212,
   "id": "c43e4761",
   "metadata": {},
   "outputs": [
    {
     "data": {
      "text/plain": [
       "Text(0, 0.5, 'PCA Component 2')"
      ]
     },
     "execution_count": 212,
     "metadata": {},
     "output_type": "execute_result"
    },
    {
     "data": {
      "image/png": "[encoded data removed]",
      "text/plain": [
       "<Figure size 432x288 with 2 Axes>"
      ]
     },
     "metadata": {},
     "output_type": "display_data"
    }
   ],
   "source": [
    "x = fittedPCA[:,0]\n",
    "y = fittedPCA[:,1]\n",
    "scatterPlt = plt.scatter(x, y, c=DF.State_Num)\n",
    "\n",
    "plt.colorbar(scatterPlt)\n",
    "plt.xlabel('PCA Component 1')\n",
    "plt.ylabel('PCA Component 2')"
   ]
  },
  {
   "cell_type": "code",
   "execution_count": 214,
   "id": "c2777d48",
   "metadata": {},
   "outputs": [
    {
     "data": {
      "text/plain": [
       "Text(0, 0.5, 'PCA Component 2')"
      ]
     },
     "execution_count": 214,
     "metadata": {},
     "output_type": "execute_result"
    },
    {
     "data": {
      "image/png": "[encoded data removed]",
      "text/plain": [
       "<Figure size 432x288 with 1 Axes>"
      ]
     },
     "metadata": {},
     "output_type": "display_data"
    }
   ],
   "source": [
    "x = fittedPCA[:,0]\n",
    "y = fittedPCA[:,1]\n",
    "scatterPlt = plt.scatter(x, y)\n",
    "\n",
    "plt.xlabel('PCA Component 1')\n",
    "plt.ylabel('PCA Component 2')"
   ]
  }
 ],
 "metadata": {
  "kernelspec": {
   "display_name": "Python 3",
   "language": "python",
   "name": "python3"
  },
  "language_info": {
   "codemirror_mode": {
    "name": "ipython",
    "version": 3
   },
   "file_extension": ".py",
   "mimetype": "text/x-python",
   "name": "python",
   "nbconvert_exporter": "python",
   "pygments_lexer": "ipython3",
   "version": "3.8.8"
  }
 },
 "nbformat": 4,
 "nbformat_minor": 5
}
